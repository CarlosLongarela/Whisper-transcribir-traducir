{
  "nbformat": 4,
  "nbformat_minor": 0,
  "metadata": {
    "colab": {
      "provenance": [],
      "include_colab_link": true
    },
    "kernelspec": {
      "name": "python3",
      "display_name": "Python 3"
    },
    "language_info": {
      "name": "python"
    },
    "gpuClass": "standard",
    "accelerator": "GPU"
  },
  "cells": [
    {
      "cell_type": "markdown",
      "metadata": {
        "id": "view-in-github",
        "colab_type": "text"
      },
      "source": [
        "<a href=\"https://colab.research.google.com/github/CarlosLongarela/Whisper-transcribir-traducir/blob/main/Whisper_transcribir_traducir.ipynb\" target=\"_parent\"><img src=\"https://colab.research.google.com/assets/colab-badge.svg\" alt=\"Open In Colab\"/></a>"
      ]
    },
    {
      "cell_type": "markdown",
      "source": [
        "# Transcripción y traducción WHISPER V 0.1\n",
        "### Cuaderno de colab programado por Carlos Longarela\n",
        "### https://tabernawp.com/\n",
        "\n",
        "1. Este cuaderno permite hacer una transcripción o una traducción de un \n",
        "audio o video en la mayoria de formatos populares en cualquier idioma o traducirlo al inglés (o ambas tareas). El resultado son archivos de texto (txt, srt y vtt) planos y con los tiempos para usar como subtitulos. Los formatos soportados son los siguientes https://en.wikipedia.org/wiki/FFmpeg#Supported_codecs_and_formats.\n",
        "1. Los archivos de audio y los archivos de texto generados quedarán almacenados en tu google drive en una carpeta llamada whisper, que se borrará y recreará con cada nueva ejecución.\n",
        "1. Este cuaderno NO codifica video ni audio, solo genera los archivos de texto preparados para susbtítulos.\n",
        "\n",
        "# Instrucciones de uso:\n",
        "\n",
        "1. El entorno de ejecución deberá tener aceleración por hardware de GPU.\n",
        "1. Se deben ejecutar las tres tareas secuencialmente.\n",
        "1. Una vez ejecutadas las tres tareas, en consecuentes ejecuciones solo debemos ejecutar las tareas 2 y 3.\n",
        "1. Con la primera tarea instalamos Whisper y las librerías necesarias, además de dar permiso a nuestro Drive para poder guardar los archivos.\n",
        "1. Con la tarea 2 seleccionamos el archivo de audio a utilizar y los parámetros a utilizar en la tarea (ver los parámetros de la tarea 2).\n",
        "1. Con la tarea 3 realizamos la transcripción/traducción y copia de archivos a su destino definitivo en nuestro Google Drive.\n",
        "\n",
        "\n",
        "---\n",
        "\n",
        "\n"
      ],
      "metadata": {
        "id": "vMuIoZhrqWJ4"
      }
    },
    {
      "cell_type": "code",
      "source": [
        "#@title 1) Instalamos las dependencias y librerías y montamos el Google Drive.\n",
        "\n",
        "# Install Whisper\n",
        "!pip install git+https://github.com/openai/whisper.git > /dev/null 2>&1\n",
        "!pip install jiwer whisper > /dev/null 2>&1\n",
        "\n",
        "# Mount Google Drive.\n",
        "g_drive = '/content/My_Gdrive'\n",
        "from google.colab import drive\n",
        "drive.mount( g_drive )"
      ],
      "metadata": {
        "id": "lfuFB79RsyDZ"
      },
      "execution_count": null,
      "outputs": []
    },
    {
      "cell_type": "markdown",
      "source": [
        "### 1. En primer lugar deberemos seleccionar los tres siguientes parámetros (o dejar las opciones por defecto).\n",
        "\n",
        "**task:** L tarea que va a realizarse, traducir, transcribir o ambas.\n",
        "\n",
        "**model:** Modelo de whisper usado para hacer la tarea, tiny y small son los menos complejos y más rápidos, large es el más complejo y lento, con el que se lograra mejores resultados en general.\n",
        "\n",
        "**langauge:**  Idioma del audio a transcribir/traducir, que puede ser Español (*Spanish*), Inglés (*Inglés*) o Autodetectar (*Autodetect*).\n",
        "\n",
        "### 2. A continuación debermos ejecutar la tarea, lo que nos permitirá elegir el archivo de audio para transcribir/convertir en el siguinete paso."
      ],
      "metadata": {
        "id": "P-_WkQ-ZVM9P"
      }
    },
    {
      "cell_type": "code",
      "source": [
        "#@title 2) Seleccionamos opciones y subimos el archivo de audio\n",
        "import os\n",
        "from google.colab import files\n",
        "import shutil\n",
        "\n",
        "folder_name = g_drive  + '/MyDrive/whisper'\n",
        "folder_name_en = g_drive + '/MyDrive/whisper/en'\n",
        "\n",
        "# If folder exists, we delete it.\n",
        "if os.path.exists( folder_name ):\n",
        "  shutil.rmtree( folder_name )\n",
        "\n",
        "# Create folders.\n",
        "os.mkdir( folder_name )\n",
        "os.mkdir( folder_name_en )\n",
        "\n",
        "task = \"Transcription and Translation\" #@param [\"Transcription and Translation\", \"Translation\", \"Transcripcion\"]\n",
        "model = \"large\" #@param [\"large\", \"medium\", \"tiny\", \"tiny.en\", \"base.en\", \"base\", \"small.en\", \"small\", \"medium.en\", \"large-v1\", \"large-v2\"]\n",
        "language = \"Spanish\" #@param [\"Autodetect\", \"Spanish\", \"English\"]\n",
        "\n",
        "if language == 'Autodetect':\n",
        "  language_param = ''\n",
        "else:\n",
        "  language_param = '--language ' + language\n",
        "\n",
        "uploaded_files = files.upload()\n",
        "for file in uploaded_files.keys():\n",
        "  s = file\n",
        "  file2 = s.replace( ' ', '' )\n",
        "  s = file2 \n",
        "  file2 = s.replace( ')', '' )\n",
        "  s = file2 \n",
        "  file2 = s.replace( '(', '' )\n",
        "  destination = os.path.join( folder_name, file2 )\n",
        "  print( f'Moviendo {file} a {file2}' )\n",
        "  shutil.copy( file, destination )\n",
        "  extension = os.path.splitext( file2 )[1]\n",
        "  file_name = os.path.splitext( file2 )[0]\n",
        "  print( f'{file_name}{extension}' )\n",
        "if extension != '.mp3':\n",
        "  !ffmpeg -i {folder_name}/{file_name}{extension} {folder_name}/{file_name}.mp3 > /dev/null 2>&1\n",
        "  destination_new = folder_name + '/' + file_name + '.mp3'\n",
        "  !rm {destination} > /dev/null 2>&1\n",
        "else:\n",
        "    destination_new = destination\n"
      ],
      "metadata": {
        "id": "IYd1PuFmvy6a"
      },
      "execution_count": null,
      "outputs": []
    },
    {
      "cell_type": "markdown",
      "source": [
        "### 3. Ejecutamos la tarea encargada de realizar la transcripción/traducción."
      ],
      "metadata": {
        "id": "pz9VxGdQ_3fC"
      }
    },
    {
      "cell_type": "code",
      "source": [
        "#@title 3) Ejecutar Whisper con los parámetros seleccionados\n",
        "\n",
        "def cl_transcript():\n",
        "  print( 'Se va a realizar una transcripción', \"\\n\" )\n",
        "  print( '-----------------------------------------', \"\\n\")\n",
        "\n",
        "  # Execute whisper command.\n",
        "  !whisper {destination_new} --task transcribe {language_param} --model {model}\n",
        "\n",
        "  # Move generated files to GDrive folder.\n",
        "  !mv /content/*.srt {folder_name}\n",
        "  !mv /content/*.txt {folder_name}\n",
        "  !mv /content/*.vtt {folder_name}\n",
        "\n",
        "  print( \"\\n\\n\" )\n",
        "  print( '-----------------------------------------', \"\\n\")\n",
        "  print( 'los archivos de la transcripción fueron copiados en ',  folder_name )\n",
        "  print( \"\\n\\n\" )\n",
        "\n",
        "def cl_translate():\n",
        "  print( 'Se va a realizar una traducción', \"\\n\" )\n",
        "  print( '-----------------------------------------', \"\\n\")\n",
        "\n",
        "  # Execute whisper command.\n",
        "  !whisper {destination_new} --task translate {language_param} --model {model}\n",
        "\n",
        "  # Move generated files to GDrive folder and subfolder for English.\n",
        "  !mv /content/*.srt {folder_name_en}\n",
        "  !mv /content/*.txt {folder_name_en}\n",
        "  !mv /content/*.vtt {folder_name_en}\n",
        "\n",
        "  # Rename files to en-*.*\n",
        "  !mv {folder_name_en}/{file_name}.srt {folder_name_en}/en-{file_name}.srt\n",
        "  !mv {folder_name_en}/{file_name}.txt {folder_name_en}/en-{file_name}.txt\n",
        "  !mv {folder_name_en}/{file_name}.vtt {folder_name_en}/en-{file_name}.vtt\n",
        "\n",
        "  print( \"\\n\\n\" )\n",
        "  print( '-----------------------------------------', \"\\n\")\n",
        "  print( 'los archivos de la traducción fueron copiados en ',  folder_name_en )\n",
        "  print( \"\\n\\n\" )\n",
        "\n",
        "if task == \"Transcripcion\":\n",
        "  cl_transcript()\n",
        "elif task == \"Translation\":\n",
        "  cl_translate()\n",
        "else: \n",
        "  cl_transcript()\n",
        "  cl_translate()\n"
      ],
      "metadata": {
        "id": "cEPSB7uTyNVO"
      },
      "execution_count": null,
      "outputs": []
    }
  ]
}